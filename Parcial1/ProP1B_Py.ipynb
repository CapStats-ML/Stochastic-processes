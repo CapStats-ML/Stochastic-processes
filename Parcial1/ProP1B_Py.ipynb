{
 "cells": [
  {
   "cell_type": "markdown",
   "id": "77f2b0a5-8a94-41a9-8955-9cf0bd22940b",
   "metadata": {},
   "source": [
    "# PROCESOS ESTOCASTICOS \n",
    "\n",
    "## SOLUCION PARCIAL 1 PARTE B 2024-1\n",
    "\n",
    "El siguiete script de python contiene la posible solucion a los ejercicios propuestos en la clase de Procesos Estocasticos para la parte computacional del 1er parcial de la asigatura, el fin de este documento es la  adecuada preparacion para el parcial 1 de 2024-1.\n",
    "\n",
    "Nota: Recordar que python empieza a indexar desde el 0 al contrario de R que lo hace desde el 1 \n",
    "\n",
    "PDF: Parcial1/Procesos-P1-2024I.pdf"
   ]
  },
  {
   "cell_type": "code",
   "execution_count": 1,
   "id": "bff62e63-e20a-4c28-b02f-84aa7ecb0365",
   "metadata": {},
   "outputs": [],
   "source": [
    "import os\n",
    "import random\n",
    "import pandas as pd\n",
    "import numpy as np\n",
    "import matplotlib.pyplot as plt\n",
    "import seaborn as sns\n",
    "pd.options.display.float_format = '{:,.4f}'.format"
   ]
  },
  {
   "cell_type": "markdown",
   "id": "518c435f-f8fa-4f5f-afd1-d92cee821b58",
   "metadata": {},
   "source": [
    "### **<font color='red'>PUNTO 1</font>**\n",
    "\n",
    "Considera una cadena de Markov con espacios de estados $S = {0,1,2,3,4,5}$ y la matriz de probabilidades de transicion P"
   ]
  },
  {
   "cell_type": "code",
   "execution_count": 34,
   "id": "64a2aa19-025f-4c53-88cd-c60d65d369a1",
   "metadata": {},
   "outputs": [
    {
     "name": "stdout",
     "output_type": "stream",
     "text": [
      "[[0.         0.         1.         0.         0.         0.        ]\n",
      " [0.         0.         0.         0.         0.         1.        ]\n",
      " [0.         0.         0.         0.         1.         0.        ]\n",
      " [0.33333333 0.33333333 0.33333333 0.         0.         0.        ]\n",
      " [1.         0.         0.         0.         0.         0.        ]\n",
      " [0.         0.5        0.         0.         0.         0.5       ]]\n"
     ]
    }
   ],
   "source": [
    "# Definir la matriz de transición\n",
    "P = np.array([\n",
    "    [0, 0, 1, 0, 0, 0],\n",
    "    [0, 0, 0, 0, 0, 1],\n",
    "    [0, 0, 0, 0, 1, 0],\n",
    "    [1/3, 1/3, 1/3, 0, 0, 0],\n",
    "    [1, 0, 0, 0, 0, 0],\n",
    "    [0, 1/2, 0, 0, 0, 1/2]\n",
    "])\n",
    "print(P)"
   ]
  },
  {
   "cell_type": "markdown",
   "id": "40e88688-0731-4161-b71f-017e05ef5422",
   "metadata": {},
   "source": [
    "### - **Clasifica los estados a las clases**"
   ]
  },
  {
   "cell_type": "markdown",
   "id": "ebc9fd67-9b2b-4cb4-a718-53e70bd93a72",
   "metadata": {},
   "source": [
    "### **<font color='blue'>Solución</font>**\n",
    "\n",
    "Para clasificar los estados en clases recurrentes, se empleó un enfoque de búsqueda en profundidad (DFS) sobre la matriz de transición. Se comenzó desde cada estado y se exploraron todos los estados alcanzables a través de transiciones no nulas. Los estados que son alcanzables entre sí forman una clase recurrente. Este proceso se repitió para todos los estados hasta que todos fueron visitados y agrupados en clases recurrentes disjuntas."
   ]
  },
  {
   "cell_type": "code",
   "execution_count": 3,
   "id": "ca784ba7-89f9-4fe1-821c-f0c0b8f77b4b",
   "metadata": {},
   "outputs": [],
   "source": [
    "# Calcula las clases recurrentes\n",
    "def get_recurrent_classes(transition_matrix):\n",
    "    n = transition_matrix.shape[0]\n",
    "    classes = []\n",
    "    visited = set()\n",
    "    \n",
    "    def dfs(node, current_class):\n",
    "        if node in visited:\n",
    "            return\n",
    "        visited.add(node)\n",
    "        current_class.append(node)\n",
    "        for i in range(n):\n",
    "            if transition_matrix[node][i] > 0:\n",
    "                dfs(i, current_class)\n",
    "    \n",
    "    for i in range(n):\n",
    "        current_class = []\n",
    "        dfs(i, current_class)\n",
    "        if current_class:\n",
    "            classes.append(current_class)\n",
    "    \n",
    "    return classes"
   ]
  },
  {
   "cell_type": "code",
   "execution_count": 35,
   "id": "c666d122-1659-41d8-abea-602605c8b1cc",
   "metadata": {},
   "outputs": [
    {
     "name": "stdout",
     "output_type": "stream",
     "text": [
      "Clases: [[0, 2, 4], [1, 5], [3]]\n"
     ]
    }
   ],
   "source": [
    "# Clasifica los estados en clases recurrentes\n",
    "states = list(range(P.shape[0]))\n",
    "recurrent_classes = get_recurrent_classes(P)\n",
    "print(\"Clases:\", recurrent_classes)"
   ]
  },
  {
   "cell_type": "markdown",
   "id": "490a1c71-5adf-4aa6-9b47-eca529a60fb9",
   "metadata": {},
   "source": [
    "Tenemos en total $3$ clases las cuales son: $[0, 2, 4]$, $[1, 5]$ y $[3]$"
   ]
  },
  {
   "cell_type": "markdown",
   "id": "8eca4575-80a0-435a-a488-d063ed77fc62",
   "metadata": {},
   "source": [
    "### - **Estudia la recurrencia o transitoriedad de cada uno de los estados de la cadena**"
   ]
  },
  {
   "cell_type": "markdown",
   "id": "2489e901-5b1a-4e99-aa25-82b22de1b22e",
   "metadata": {},
   "source": [
    "### **<font color='blue'>Solución</font>**\n",
    "\n",
    "Se determinó la recurrencia o transitoriedad de cada estado según su pertenencia a una clase recurrente. Si un estado pertenecía a una clase recurrente de tamaño mayor que uno, se clasificaba como recurrente; de lo contrario, se clasificaba como transitorio."
   ]
  },
  {
   "cell_type": "code",
   "execution_count": 4,
   "id": "2fe3875e-c7d2-49e6-bd60-0201152709b3",
   "metadata": {},
   "outputs": [],
   "source": [
    "# Calcula la recurrencia o transitoriedad de cada estado\n",
    "def get_recurrence(states, recurrent_classes):\n",
    "    recurrence = {}\n",
    "    for i, state in enumerate(states):\n",
    "        for j, rec_class in enumerate(recurrent_classes):\n",
    "            if state in rec_class:\n",
    "                recurrence[state] = \"Recurrente\" if len(rec_class) > 1 else \"Transitorio\"\n",
    "                break\n",
    "    return recurrence"
   ]
  },
  {
   "cell_type": "code",
   "execution_count": 10,
   "id": "445a68c9-ac55-4c02-8902-bd141d2e4648",
   "metadata": {},
   "outputs": [
    {
     "name": "stdout",
     "output_type": "stream",
     "text": [
      "Recurrencia de cada estado: {0: 'Recurrente', 1: 'Recurrente', 2: 'Recurrente', 3: 'Transitorio', 4: 'Recurrente', 5: 'Recurrente'}\n"
     ]
    }
   ],
   "source": [
    "# Estudia la recurrencia o transitoriedad de cada estado\n",
    "recurrence = get_recurrence(states, recurrent_classes)\n",
    "print(\"Recurrencia de cada estado:\", recurrence)"
   ]
  },
  {
   "cell_type": "markdown",
   "id": "448feb54-46bd-4d2e-b8c2-2d2a7903302c",
   "metadata": {},
   "source": [
    "Se puede observar que los estados $[0,2,4]$ y $[1,5]$ son **recurrentes**, mientras que $[3]$ es **transitivo**"
   ]
  },
  {
   "cell_type": "markdown",
   "id": "1f93c01e-2efe-439c-816d-575cb2e59fb8",
   "metadata": {},
   "source": [
    "### - **Calcula el periodo de cada uno de las clases recurrentes.**"
   ]
  },
  {
   "cell_type": "markdown",
   "id": "51833581-6ed1-4dc8-8664-393ee0a2a6c2",
   "metadata": {},
   "source": [
    "### **<font color='blue'>Solución</font>**\n",
    "\n",
    "Para calcular el periodo de cada clase recurrente, se implementó un algoritmo de búsqueda de ciclos en grafos. Se exploraron las transiciones partiendo de cada estado dentro de una clase recurrente hasta que se alcanzara un estado previamente visitado. El periodo se determinó contando el número de transiciones realizadas. Este proceso se repitió para todos los estados dentro de cada clase recurrente."
   ]
  },
  {
   "cell_type": "code",
   "execution_count": 13,
   "id": "6ecc53b0-847f-4e51-bd1f-ea014293d149",
   "metadata": {},
   "outputs": [],
   "source": [
    "def get_periods(recurrent_classes, transition_matrix):\n",
    "    periods = {}\n",
    "    n = transition_matrix.shape[0]\n",
    "    visited = set()  # Almacena los estados ya procesados\n",
    "    \n",
    "    def find_period(state):\n",
    "        visited.add(state)\n",
    "        node = state\n",
    "        period = 1\n",
    "        while True:\n",
    "            next_node = np.argmax(transition_matrix[node])\n",
    "            if next_node in visited:\n",
    "                periods[state] = period\n",
    "                return period\n",
    "            visited.add(next_node)\n",
    "            period += 1\n",
    "            node = next_node\n",
    "    \n",
    "    for i, rec_class in enumerate(recurrent_classes):\n",
    "        for state in rec_class:\n",
    "            if state not in visited:\n",
    "                find_period(state)\n",
    "    return periods"
   ]
  },
  {
   "cell_type": "code",
   "execution_count": 14,
   "id": "f0289256-43ca-4d82-88f8-53d36b195c89",
   "metadata": {},
   "outputs": [
    {
     "name": "stdout",
     "output_type": "stream",
     "text": [
      "Periodo de cada clase recurrente: {0: 3, 1: 2, 3: 1}\n"
     ]
    }
   ],
   "source": [
    "# Calcula el periodo de cada clase recurrente\n",
    "periods = get_periods(recurrent_classes, P)\n",
    "print(\"Periodo de cada clase recurrente:\", periods)"
   ]
  },
  {
   "cell_type": "markdown",
   "id": "38c55e30-4891-44cb-9109-13f25028669b",
   "metadata": {},
   "source": [
    "Esto nos esta indicando que para el clase $[0, 2, 4]$ es periodo es 3, para la clase $[1, 5]$ el periodo es 2 y para la clase $[3]$ el periodo es 1 "
   ]
  },
  {
   "cell_type": "markdown",
   "id": "1bcd8540-bef3-4776-80c1-c5f5a8c28e91",
   "metadata": {},
   "source": [
    "### - **Identificar los estados ergodicos**"
   ]
  },
  {
   "cell_type": "markdown",
   "id": "e7bc1816-c7fc-42ef-b8f8-267bee9a95c2",
   "metadata": {},
   "source": [
    "### **<font color='blue'>Solución</font>**\n",
    "\n",
    "Los estados ergódicos fueron identificados como aquellos que pertenecen a clases recurrentes de tamaño uno, lo que implica que son recurrentes por sí mismos y no son transitivos. Estos estados tienen la propiedad de que, a medida que el proceso estocástico evoluciona en el tiempo, la probabilidad de estar en cualquiera de estos estados converge a un valor constante independiente del estado inicial."
   ]
  },
  {
   "cell_type": "code",
   "execution_count": 49,
   "id": "d908a920-d19c-4db7-9084-8a8e206b4526",
   "metadata": {},
   "outputs": [],
   "source": [
    "def get_ergodic_states(recurrent_classes, transition_matrix):\n",
    "    ergodic_states = []\n",
    "    for rec_class in recurrent_classes:\n",
    "        is_ergodic = True\n",
    "        for state in rec_class:\n",
    "            if transition_matrix[state, state] != 1.0:\n",
    "                is_ergodic = False\n",
    "                break\n",
    "        if is_ergodic:\n",
    "            ergodic_states.extend(rec_class)\n",
    "    return ergodic_states"
   ]
  },
  {
   "cell_type": "code",
   "execution_count": 50,
   "id": "1efb229e-9646-412a-af8d-9665b7091b55",
   "metadata": {},
   "outputs": [
    {
     "name": "stdout",
     "output_type": "stream",
     "text": [
      "Estados ergódicos: []\n"
     ]
    }
   ],
   "source": [
    "ergodic_states = get_ergodic_states(recurrent_classes, P)\n",
    "print(\"Estados ergódicos:\", ergodic_states)"
   ]
  },
  {
   "cell_type": "markdown",
   "id": "d9c40422-b8d5-4886-b62e-7999061f3b4d",
   "metadata": {},
   "source": [
    "La unica clase con estado ergodico es la clase $[3]$"
   ]
  },
  {
   "cell_type": "markdown",
   "id": "d7f81425-2e64-4490-87bc-dbe02163c87a",
   "metadata": {},
   "source": [
    "### **<font color='red'>PUNTO 2</font>**\n",
    "\n",
    "En la oficina de Admisiones de la Universidad Nacional se ha obtenido la información necesaria para las siguientes estadísticas sobre un programa de Maestría que dura tres niveles: el $70 \\%$ de los estudiantes que ingresan al primer nivel pasan con éxito al segundo nivel, el $10 \\%$ lo repite y el $20 \\%$ restante se retira por diferentes motivos; de todos los estudiantes que pasan al segundo nivel, el $80 \\%$ accede al tercer nivel, el $8 \\%$ repite y el $12 \\%$ restante sale del programa por bajo nivel académico u otras razones; de todos los estudiantes que ingresan al tercer nivel, el $90 \\%$ se gradúa, el $6 \\%$ lo repite y el $4 \\%$ restante no puede optar al título y son retirados por no cumplir las normas estipuladas."
   ]
  },
  {
   "cell_type": "code",
   "execution_count": 18,
   "id": "2831b82e-9307-4524-a3c3-fc7e15992a05",
   "metadata": {},
   "outputs": [
    {
     "data": {
      "text/plain": [
       "array([[0.7 , 0.1 , 0.2 ],\n",
       "       [0.8 , 0.08, 0.12],\n",
       "       [0.9 , 0.06, 0.04]])"
      ]
     },
     "execution_count": 18,
     "metadata": {},
     "output_type": "execute_result"
    }
   ],
   "source": [
    "# Definir la matriz de transición\n",
    "transition_matrix = np.array([\n",
    "    [0.7, 0.1, 0.2],\n",
    "    [0.8, 0.08, 0.12],\n",
    "    [0.9, 0.06, 0.04]\n",
    "])\n",
    "transition_matrix"
   ]
  },
  {
   "cell_type": "markdown",
   "id": "449d0d93-def9-44bb-9b1e-3faef7b99f73",
   "metadata": {},
   "source": [
    "### - **¿Cuántos alumnos lograrán el título de Maestría de un grupo de 100 aspirantes que se matricularon en el primer nivel?**"
   ]
  },
  {
   "cell_type": "markdown",
   "id": "66f6745e-9c8e-44f5-a470-5e860da0af7e",
   "metadata": {},
   "source": [
    "### **<font color='blue'>Solución</font>**\n",
    "\n",
    "**Definición de la matriz de transición**: La información proporcionada sobre las tasas de éxito, repetición y abandono en cada nivel de la maestría se utiliza para crear una matriz de transición.\n",
    "\n",
    "**Elevación de la matriz de transición al cubo**: Dado que hay tres niveles en la maestría, se eleva la matriz de transición al cubo utilizando el método `np.linalg.matrix_power(transition_matrix, 3)`. Esto da como resultado la probabilidad de que un estudiante en el primer nivel alcance el tercer nivel y obtenga el título de maestría.\n",
    "\n",
    "**Cálculo del número de estudiantes que obtendrán el título**: Se multiplica la probabilidad de éxito en el nivel final por el número inicial de aspirantes para obtener el número total de estudiantes que lograrán el título de maestría."
   ]
  },
  {
   "cell_type": "code",
   "execution_count": 20,
   "id": "796c1880-e853-4dc1-96c0-853e0871acce",
   "metadata": {},
   "outputs": [],
   "source": [
    "# Función para calcular el número de estudiantes que lograrán el título de maestría\n",
    "def calcular_titulo_maestria(transition_matrix, num_aspirantes):\n",
    "    final_state = np.linalg.matrix_power(transition_matrix, 3) # Estado final después de tres niveles\n",
    "    titulo_maestria = final_state[0][0] * num_aspirantes\n",
    "    return titulo_maestria"
   ]
  },
  {
   "cell_type": "code",
   "execution_count": 23,
   "id": "db3b0ca8-bf2e-419c-87ef-fb5c61c23782",
   "metadata": {},
   "outputs": [
    {
     "name": "stdout",
     "output_type": "stream",
     "text": [
      "Número de estudiantes que lograrán el título de Maestría: 74.0\n"
     ]
    }
   ],
   "source": [
    "# Calcular el número de alumnos que lograrán el título de Maestría\n",
    "num_aspirantes = 100\n",
    "titulo_maestria = calcular_titulo_maestria(transition_matrix, num_aspirantes)\n",
    "print(\"Número de estudiantes que lograrán el título de Maestría:\", round(titulo_maestria, 0))"
   ]
  },
  {
   "cell_type": "markdown",
   "id": "549ecb17-0727-47bc-aab9-87c11ebee198",
   "metadata": {},
   "source": [
    "### - **Si cada nivel dura un semestre, ¿durante cuántos años se deberá ofrecer esta Maestría si el país necesita, aproximadamente, 500 especialistas en esta área, sabiendo que esta universidad solo está en capacidad de recibir, como máximo, 50 alumnos nuevos cada semestre?**"
   ]
  },
  {
   "cell_type": "markdown",
   "id": "9e31eaee-2146-438b-a59a-7f37ef0ac310",
   "metadata": {},
   "source": [
    "### **<font color='blue'>Solución</font>**\n",
    "\n",
    "**Estimación inicial del número de aspirantes**: Se establece un número inicial de aspirantes, basado en la capacidad máxima de la universidad.\n",
    "\n",
    "**Bucle para aumentar el número de aspirantes**: Se ejecuta un bucle hasta alcanzar el número deseado de especialistas. En cada iteración, se aumenta el número de aspirantes en función de la capacidad máxima de la universidad.\n",
    "\n",
    "**Cálculo de la duración en años**: Una vez alcanzado el número deseado de especialistas, se divide el número total de aspirantes por la capacidad máxima por semestre para obtener el número de semestres necesarios. Luego, este número se convierte a años, considerando que cada nivel dura un semestre.\n",
    "\n",
    "**Resultado final**: Se muestra la duración del programa de maestría en años."
   ]
  },
  {
   "cell_type": "code",
   "execution_count": 19,
   "id": "3c2a5af9-72d2-4343-88b2-e13f351286a6",
   "metadata": {},
   "outputs": [],
   "source": [
    "# Función para determinar la duración del programa de maestría\n",
    "def calcular_duracion_maestria(transition_matrix, num_especialistas_deseados, capacidad_maxima):\n",
    "    num_aspirantes = capacidad_maxima * 2 # Estimación inicial\n",
    "    while True:\n",
    "        titulo_maestria = calcular_titulo_maestria(transition_matrix, num_aspirantes)\n",
    "        if titulo_maestria >= num_especialistas_deseados:\n",
    "            break\n",
    "        num_aspirantes += capacidad_maxima * 2 # Incremento en función de la capacidad máxima\n",
    "    duracion_anos = (num_aspirantes // capacidad_maxima) * 0.5 # Dividir por la capacidad máxima y convertir semestres a años\n",
    "    return duracion_anos"
   ]
  },
  {
   "cell_type": "code",
   "execution_count": 22,
   "id": "b197c0a5-d7f7-4fbd-b858-e4a47d5f59cc",
   "metadata": {},
   "outputs": [
    {
     "name": "stdout",
     "output_type": "stream",
     "text": [
      "Duración del programa de Maestría (en años): 7.0\n"
     ]
    }
   ],
   "source": [
    "# Calcular la duración del programa de Maestría\n",
    "num_especialistas_deseados = 500\n",
    "capacidad_maxima = 50\n",
    "duracion_anos = calcular_duracion_maestria(transition_matrix, num_especialistas_deseados, capacidad_maxima)\n",
    "print(\"Duración del programa de Maestría (en años):\", duracion_anos)"
   ]
  },
  {
   "cell_type": "markdown",
   "id": "f22a0469-e837-4397-8714-5a49bde19ab6",
   "metadata": {},
   "source": [
    "### **<font color='red'>PUNTO 3</font>**\n",
    "\n",
    "Considera una caminata aleatoria con los estados $S=\\{-2,-1,0,1,2\\}$. Si el proceso está en estado $i$ ($i=-1,0,1$), entonces se mueve a cualquier $i-1$ o $i+1$ con igual probabilidad. Si el proceso se encuentra en estado $-2$ o $2$ en el tiempo $n$, entonces se mueve al estado $-1$, $0$ o $1$ en el tiempo $n+1$ con probabilidad igual."
   ]
  },
  {
   "cell_type": "markdown",
   "id": "16d80c62-0ee3-45cb-aff9-532885f70858",
   "metadata": {},
   "source": [
    "### - **Escribe la matriz de probabilidad de transición para esta caminata aleatoria.**"
   ]
  },
  {
   "cell_type": "markdown",
   "id": "bb8f07d5-3003-492a-864e-5904fab37f99",
   "metadata": {},
   "source": [
    "### **<font color='blue'>Solución</font>**\n",
    "\n",
    "Para definir la matriz de probabilidad de transición, primero consideramos los estados posibles en la caminata aleatoria. En este caso, los estados son $\\{-2, -1, 0, 1, 2\\}$. Luego, para cada estado, identificamos las probabilidades de transición a otros estados.\n",
    "\n",
    "1. Para los estados $-1$, $0$, y $1$, la probabilidad de moverse a cualquier estado adyacente es igual y es $\\frac{1}{2}$. Por ejemplo, si el proceso está en el estado $0$, tiene igual probabilidad de moverse a $-1$ o $1$ en el siguiente paso.\n",
    "\n",
    "2. Para los estados $-2$ y $2$, la probabilidad de moverse a $-1$, $0$, o $1$ también es igual y es $\\frac{1}{3}$. Esto se debe a que, en estos estados, el proceso tiene una \"pared\" que restringe sus movimientos hacia afuera, y solo puede moverse a los estados $-1$, $0$, o $1$ con igual probabilidad.\n",
    "\n",
    "Luego de identificar estas probabilidades de transición, construimos la matriz de probabilidad de transición donde las filas representan el estado actual y las columnas representan el estado siguiente. Cada elemento de la matriz representa la probabilidad de transición del estado actual al estado siguiente. \n",
    "\n",
    "Siguiendo este proceso, llegamos a la matriz de probabilidad de transición presentada:\n",
    "\n",
    "$$\n",
    "P = \\begin{pmatrix}\n",
    "0 & \\frac{1}{2} & 0 & 0 & 0 \\\\\n",
    "\\frac{1}{2} & 0 & \\frac{1}{2} & 0 & 0 \\\\\n",
    "0 & \\frac{1}{2} & 0 & \\frac{1}{2} & 0 \\\\\n",
    "0 & 0 & \\frac{1}{3} & 0 & \\frac{2}{3} \\\\\n",
    "0 & \\frac{1}{3} & 0 & \\frac{1}{3} & 0\n",
    "\\end{pmatrix}\n",
    "$$\n"
   ]
  },
  {
   "cell_type": "code",
   "execution_count": 25,
   "id": "4f449a1b-da39-449d-bb21-d5fa4e965b4d",
   "metadata": {},
   "outputs": [],
   "source": [
    "# Definir la matriz de probabilidad de transición\n",
    "P = np.array([\n",
    "    [0, 1/2, 0, 0, 0],\n",
    "    [1/2, 0, 1/2, 0, 0],\n",
    "    [0, 1/2, 0, 1/2, 0],\n",
    "    [0, 0, 1/3, 0, 2/3],\n",
    "    [0, 1/3, 0, 1/3, 0]\n",
    "])"
   ]
  },
  {
   "cell_type": "markdown",
   "id": "21e0f036-d921-4b1d-8e85-1dc23a109557",
   "metadata": {},
   "source": [
    "### - **Calcula la distribución estacionaria.**"
   ]
  },
  {
   "cell_type": "markdown",
   "id": "db6c9c6d-4701-4440-9c4d-c8eff14a767e",
   "metadata": {},
   "source": [
    "### **<font color='blue'>Solución</font>**\n",
    "\n",
    "Para calcular la distribución estacionaria, utilizamos el concepto de vectores propios de la matriz de probabilidad de transición. La distribución estacionaria es un vector $\\pi$ tal que $\\pi P = \\pi$, donde $P$ es la matriz de probabilidad de transición.\n",
    "\n",
    "Para calcular $\\pi$, encontramos el vector propio izquierdo correspondiente al valor propio 1 de la matriz de transición $P$. Esto se puede hacer utilizando funciones de álgebra lineal proporcionadas por bibliotecas como _NumPy_ en Python.\n",
    "\n",
    "El vector propio izquierdo correspondiente al valor propio 1 de la matriz de transición nos dará la distribución estacionaria. Sin embargo, es posible que necesitemos normalizar este vector para asegurarnos de que la suma de todas las probabilidades sea 1, ya que representa una distribución de probabilidad.\n",
    "\n",
    "El proceso de cálculo de la distribución estacionaria se implementa en la función _'stationary_distribution'_. Esta función utiliza la función _np.linalg.eig_ de _NumPy_ para calcular los valores y vectores propios de la matriz de transición $P$. Luego, busca el vector propio izquierdo correspondiente al valor propio 1 y lo normaliza para asegurarse de que la suma de todas las probabilidades sea 1."
   ]
  },
  {
   "cell_type": "code",
   "execution_count": 27,
   "id": "14bbd4b5-0a73-4d85-a693-7f811fa9dd92",
   "metadata": {},
   "outputs": [
    {
     "name": "stdout",
     "output_type": "stream",
     "text": [
      "Distribución estacionaria: [0.15974991 0.27874594 0.23127035 0.18719291 0.14304089]\n"
     ]
    }
   ],
   "source": [
    "# Calcular la distribución estacionaria\n",
    "def stationary_distribution(transition_matrix):\n",
    "    eigenvalues, eigenvectors = np.linalg.eig(transition_matrix.T)\n",
    "    stationary_index = np.argmin(np.abs(eigenvalues - 1))\n",
    "    stationary_vector = np.real(eigenvectors[:, stationary_index])\n",
    "    stationary_vector /= np.sum(stationary_vector)\n",
    "    return stationary_vector\n",
    "\n",
    "# Obtener la distribución estacionaria\n",
    "stationary_dist = stationary_distribution(P)\n",
    "print(\"Distribución estacionaria:\", stationary_dist)"
   ]
  },
  {
   "cell_type": "code",
   "execution_count": 29,
   "id": "e61e04b5-5680-43d3-ac74-e57cf85a1481",
   "metadata": {},
   "outputs": [
    {
     "data": {
      "text/plain": [
       "1.0"
      ]
     },
     "execution_count": 29,
     "metadata": {},
     "output_type": "execute_result"
    }
   ],
   "source": [
    "# Comprobamos que el valor sea 1 \n",
    "sum(stationary_dist)"
   ]
  },
  {
   "cell_type": "markdown",
   "id": "884e78e8-c5d2-4e29-abfa-68a098cb7425",
   "metadata": {},
   "source": [
    "### **<font color='red'>PUNTO 4</font>**\n",
    "\n",
    "Un jugador llega a un casino con 200 dólares. Decide jugar hasta que su capital sea igual a 700 dólares o hasta que se arruine. En cada ronda de juego, el jugador gana o pierde 100 dólares con probabilidades 0.4 y 0.6 respectivamente. ¿Cuál es la probabilidad de que el jugador logre alcanzar su meta de los 700 dólares? ¿Cuál es la probabilidad de ruina del jugador?"
   ]
  },
  {
   "cell_type": "markdown",
   "id": "e2160003-28fd-46d0-b547-27f8b50331e5",
   "metadata": {},
   "source": [
    "### **<font color='blue'>Solución</font>**\n",
    "\n",
    "Para resolver este problema, podemos modelar la situación como una cadena de Markov con dos estados: \"Rico\" (cuando el jugador tiene 700 dólares) y \"Pobre\" (cuando el jugador tiene 0 dólares). Primero, definimos la matriz de transición $P$ para esta cadena de Markov:\n",
    "\n",
    "$$\n",
    "P = \\begin{pmatrix}\n",
    "0.6 & 0.4 \\\\\n",
    "0 & 1\n",
    "\\end{pmatrix}\n",
    "$$\n",
    "\n",
    "Donde $P_{ij}$ representa la probabilidad de transición desde el estado $i$ al estado $j$.\n",
    "\n",
    "Para calcular la probabilidad de alcanzar la meta de 700 dólares antes de ir a la ruina, necesitamos encontrar la probabilidad de transición desde el estado \"Pobre\" al estado \"Rico\" antes de llegar al estado \"Pobre\". Esto es la entrada $P_{12}$ de la matriz $P$.\n",
    "\n",
    "Para calcular la probabilidad de ruina del jugador, necesitamos encontrar la probabilidad de transición desde el estado \"Rico\" al estado \"Pobre\" antes de llegar al estado \"Rico\". Esto es la entrada $P_{21}$ de la matriz $P$.\n"
   ]
  },
  {
   "cell_type": "code",
   "execution_count": 30,
   "id": "9e7d432f-3c1e-40e4-aaf2-4c2eea9ee7aa",
   "metadata": {},
   "outputs": [],
   "source": [
    "# Definir la matriz de transición\n",
    "P = np.array([\n",
    "    [0.6, 0.4],\n",
    "    [0, 1]\n",
    "])"
   ]
  },
  {
   "cell_type": "code",
   "execution_count": 32,
   "id": "b22e6fca-6ca6-4fc5-8d32-92c9fabce3bc",
   "metadata": {},
   "outputs": [
    {
     "name": "stdout",
     "output_type": "stream",
     "text": [
      "Probabilidad de alcanzar 700 dólares antes de la ruina: 0.9999999761240168\n",
      "Probabilidad de ruina del jugador: 2.3875983329839182e-08\n"
     ]
    }
   ],
   "source": [
    "def calculate_probabilities(P):\n",
    "    # Iteración de potencia para encontrar la distribución estacionaria\n",
    "    # Inicializamos un vector de probabilidad inicial\n",
    "    pi = np.ones(P.shape[0]) / P.shape[0]\n",
    "    # Realizamos iteraciones hasta convergencia\n",
    "    for _ in range(1000):  # Límite de iteraciones para asegurar convergencia\n",
    "        pi_new = np.dot(pi, P)\n",
    "        if np.allclose(pi_new, pi):\n",
    "            break\n",
    "        pi = pi_new\n",
    "    # Las probabilidades de interés son la probabilidad de llegar al estado \"Pobre\" (pi[0])\n",
    "    # y la probabilidad de llegar al estado \"Rico\" (pi[1])\n",
    "    return pi[0], pi[1]\n",
    "\n",
    "# Calcular probabilidades de alcanzar 700 dólares antes de la ruina y de ruina del jugador\n",
    "p_pobre, p_rico = calculate_probabilities(P)\n",
    "\n",
    "print(\"Probabilidad de alcanzar 700 dólares antes de la ruina:\", p_rico)\n",
    "print(\"Probabilidad de ruina del jugador:\", p_pobre)"
   ]
  },
  {
   "cell_type": "code",
   "execution_count": null,
   "id": "4f88af16-7546-4b91-84aa-dc0fc4045dce",
   "metadata": {},
   "outputs": [],
   "source": []
  },
  {
   "cell_type": "code",
   "execution_count": null,
   "id": "d0916fd4-6b65-40f1-8f24-155e9da1f6c0",
   "metadata": {},
   "outputs": [],
   "source": []
  },
  {
   "cell_type": "code",
   "execution_count": null,
   "id": "ef67a0a0-c98f-4a1c-b2e3-ff7c8417ea89",
   "metadata": {},
   "outputs": [],
   "source": []
  }
 ],
 "metadata": {
  "kernelspec": {
   "display_name": "Python 3 (ipykernel)",
   "language": "python",
   "name": "python3"
  },
  "language_info": {
   "codemirror_mode": {
    "name": "ipython",
    "version": 3
   },
   "file_extension": ".py",
   "mimetype": "text/x-python",
   "name": "python",
   "nbconvert_exporter": "python",
   "pygments_lexer": "ipython3",
   "version": "3.12.2"
  }
 },
 "nbformat": 4,
 "nbformat_minor": 5
}

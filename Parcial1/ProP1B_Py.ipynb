{
 "cells": [
  {
   "cell_type": "markdown",
   "id": "77f2b0a5-8a94-41a9-8955-9cf0bd22940b",
   "metadata": {},
   "source": [
    "# PROCESOS ESTOCASTICOS \n",
    "\n",
    "## SOLUCION PARCIAL 1 PARTE B 2024-1\n",
    "\n",
    "El siguiete script de python contiene la posible solucion a los ejercicios propuestos en la clase de Procesos Estocasticos para la parte computacional del 1er parcial de la asigatura, el fin de este documento es la  adecuada preparacion para el parcial 1 de 2024-1.\n",
    "\n",
    "PDF: Parcial1/Procesos-P1-2024I.pdf"
   ]
  },
  {
   "cell_type": "code",
   "execution_count": null,
   "id": "bff62e63-e20a-4c28-b02f-84aa7ecb0365",
   "metadata": {},
   "outputs": [],
   "source": []
  },
  {
   "cell_type": "code",
   "execution_count": null,
   "id": "64a2aa19-025f-4c53-88cd-c60d65d369a1",
   "metadata": {},
   "outputs": [],
   "source": []
  },
  {
   "cell_type": "code",
   "execution_count": null,
   "id": "ca784ba7-89f9-4fe1-821c-f0c0b8f77b4b",
   "metadata": {},
   "outputs": [],
   "source": []
  },
  {
   "cell_type": "code",
   "execution_count": null,
   "id": "2fe3875e-c7d2-49e6-bd60-0201152709b3",
   "metadata": {},
   "outputs": [],
   "source": []
  },
  {
   "cell_type": "code",
   "execution_count": null,
   "id": "6ecc53b0-847f-4e51-bd1f-ea014293d149",
   "metadata": {},
   "outputs": [],
   "source": []
  },
  {
   "cell_type": "code",
   "execution_count": null,
   "id": "d908a920-d19c-4db7-9084-8a8e206b4526",
   "metadata": {},
   "outputs": [],
   "source": []
  },
  {
   "cell_type": "code",
   "execution_count": null,
   "id": "c666d122-1659-41d8-abea-602605c8b1cc",
   "metadata": {},
   "outputs": [],
   "source": []
  },
  {
   "cell_type": "code",
   "execution_count": null,
   "id": "ef67a0a0-c98f-4a1c-b2e3-ff7c8417ea89",
   "metadata": {},
   "outputs": [],
   "source": []
  }
 ],
 "metadata": {
  "kernelspec": {
   "display_name": "Python 3 (ipykernel)",
   "language": "python",
   "name": "python3"
  },
  "language_info": {
   "codemirror_mode": {
    "name": "ipython",
    "version": 3
   },
   "file_extension": ".py",
   "mimetype": "text/x-python",
   "name": "python",
   "nbconvert_exporter": "python",
   "pygments_lexer": "ipython3",
   "version": "3.12.2"
  }
 },
 "nbformat": 4,
 "nbformat_minor": 5
}

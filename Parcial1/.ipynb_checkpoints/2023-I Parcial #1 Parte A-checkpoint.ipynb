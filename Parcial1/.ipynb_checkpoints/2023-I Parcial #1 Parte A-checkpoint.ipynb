{
 "cells": [
  {
   "cell_type": "markdown",
   "id": "ac5818b1-8844-4cae-9bad-793f4454a2e2",
   "metadata": {},
   "source": [
    "# PROCESOS ESTOCASTICOS \n",
    "\n",
    "## SOLUCION PARCIAL 1 PARTE A 2023-1\n",
    "\n",
    "El siguiete script de python contiene la posible solucion a los ejercicios propuestos en la clase de Procesos Estocasticos para la parte computacional del 1er parcial de la asigatura, el fin de este documento es la  adecuada preparacion para el parcial 1 de 2024-1.\n",
    "\n",
    "PDF: http://localhost:8888/lab/tree/Parcial1/2023-I.%20Parcial%20%231%20(Parte%20A).pdf"
   ]
  },
  {
   "cell_type": "code",
   "execution_count": null,
   "id": "b9f284f8-d4c9-4822-9843-77cdeb50ad8f",
   "metadata": {},
   "outputs": [],
   "source": [
    "pip install networkx"
   ]
  },
  {
   "cell_type": "code",
   "execution_count": null,
   "id": "c16a435d-e0e9-4804-9964-e30ff418e21a",
   "metadata": {},
   "outputs": [],
   "source": [
    "pip uninstall pillow"
   ]
  },
  {
   "cell_type": "code",
   "execution_count": null,
   "id": "88903dfc-d32d-4b0e-a9ec-a789c9241540",
   "metadata": {},
   "outputs": [],
   "source": [
    "pip list "
   ]
  },
  {
   "cell_type": "code",
   "execution_count": 1,
   "id": "0a1eb403-e00d-4ad6-a20b-d7a4662fb430",
   "metadata": {},
   "outputs": [
    {
     "ename": "ImportError",
     "evalue": "DLL load failed while importing _imaging: No se puede encontrar el módulo especificado.",
     "output_type": "error",
     "traceback": [
      "\u001b[1;31m---------------------------------------------------------------------------\u001b[0m",
      "\u001b[1;31mImportError\u001b[0m                               Traceback (most recent call last)",
      "Cell \u001b[1;32mIn[1], line 4\u001b[0m\n\u001b[0;32m      2\u001b[0m \u001b[38;5;28;01mimport\u001b[39;00m \u001b[38;5;21;01mnumpy\u001b[39;00m \u001b[38;5;28;01mas\u001b[39;00m \u001b[38;5;21;01mnp\u001b[39;00m\n\u001b[0;32m      3\u001b[0m \u001b[38;5;28;01mimport\u001b[39;00m \u001b[38;5;21;01mnetworkx\u001b[39;00m \u001b[38;5;28;01mas\u001b[39;00m \u001b[38;5;21;01mnx\u001b[39;00m\n\u001b[1;32m----> 4\u001b[0m \u001b[38;5;28;01mimport\u001b[39;00m \u001b[38;5;21;01mmatplotlib\u001b[39;00m \u001b[38;5;28;01mas\u001b[39;00m \u001b[38;5;21;01mplt\u001b[39;00m\n",
      "File \u001b[1;32m~\\miniconda3\\envs\\Procesos\\Lib\\site-packages\\matplotlib\\__init__.py:161\u001b[0m\n\u001b[0;32m    157\u001b[0m \u001b[38;5;28;01mfrom\u001b[39;00m \u001b[38;5;21;01mpackaging\u001b[39;00m\u001b[38;5;21;01m.\u001b[39;00m\u001b[38;5;21;01mversion\u001b[39;00m \u001b[38;5;28;01mimport\u001b[39;00m parse \u001b[38;5;28;01mas\u001b[39;00m parse_version\n\u001b[0;32m    159\u001b[0m \u001b[38;5;66;03m# cbook must import matplotlib only within function\u001b[39;00m\n\u001b[0;32m    160\u001b[0m \u001b[38;5;66;03m# definitions, so it is safe to import from it here.\u001b[39;00m\n\u001b[1;32m--> 161\u001b[0m \u001b[38;5;28;01mfrom\u001b[39;00m \u001b[38;5;21;01m.\u001b[39;00m \u001b[38;5;28;01mimport\u001b[39;00m _api, _version, cbook, _docstring, rcsetup\n\u001b[0;32m    162\u001b[0m \u001b[38;5;28;01mfrom\u001b[39;00m \u001b[38;5;21;01mmatplotlib\u001b[39;00m\u001b[38;5;21;01m.\u001b[39;00m\u001b[38;5;21;01mcbook\u001b[39;00m \u001b[38;5;28;01mimport\u001b[39;00m sanitize_sequence\n\u001b[0;32m    163\u001b[0m \u001b[38;5;28;01mfrom\u001b[39;00m \u001b[38;5;21;01mmatplotlib\u001b[39;00m\u001b[38;5;21;01m.\u001b[39;00m\u001b[38;5;21;01m_api\u001b[39;00m \u001b[38;5;28;01mimport\u001b[39;00m MatplotlibDeprecationWarning\n",
      "File \u001b[1;32m~\\miniconda3\\envs\\Procesos\\Lib\\site-packages\\matplotlib\\rcsetup.py:27\u001b[0m\n\u001b[0;32m     25\u001b[0m \u001b[38;5;28;01mfrom\u001b[39;00m \u001b[38;5;21;01mmatplotlib\u001b[39;00m \u001b[38;5;28;01mimport\u001b[39;00m _api, cbook\n\u001b[0;32m     26\u001b[0m \u001b[38;5;28;01mfrom\u001b[39;00m \u001b[38;5;21;01mmatplotlib\u001b[39;00m\u001b[38;5;21;01m.\u001b[39;00m\u001b[38;5;21;01mcbook\u001b[39;00m \u001b[38;5;28;01mimport\u001b[39;00m ls_mapper\n\u001b[1;32m---> 27\u001b[0m \u001b[38;5;28;01mfrom\u001b[39;00m \u001b[38;5;21;01mmatplotlib\u001b[39;00m\u001b[38;5;21;01m.\u001b[39;00m\u001b[38;5;21;01mcolors\u001b[39;00m \u001b[38;5;28;01mimport\u001b[39;00m Colormap, is_color_like\n\u001b[0;32m     28\u001b[0m \u001b[38;5;28;01mfrom\u001b[39;00m \u001b[38;5;21;01mmatplotlib\u001b[39;00m\u001b[38;5;21;01m.\u001b[39;00m\u001b[38;5;21;01m_fontconfig_pattern\u001b[39;00m \u001b[38;5;28;01mimport\u001b[39;00m parse_fontconfig_pattern\n\u001b[0;32m     29\u001b[0m \u001b[38;5;28;01mfrom\u001b[39;00m \u001b[38;5;21;01mmatplotlib\u001b[39;00m\u001b[38;5;21;01m.\u001b[39;00m\u001b[38;5;21;01m_enums\u001b[39;00m \u001b[38;5;28;01mimport\u001b[39;00m JoinStyle, CapStyle\n",
      "File \u001b[1;32m~\\miniconda3\\envs\\Procesos\\Lib\\site-packages\\matplotlib\\colors.py:52\u001b[0m\n\u001b[0;32m     49\u001b[0m \u001b[38;5;28;01mfrom\u001b[39;00m \u001b[38;5;21;01mnumbers\u001b[39;00m \u001b[38;5;28;01mimport\u001b[39;00m Real\n\u001b[0;32m     50\u001b[0m \u001b[38;5;28;01mimport\u001b[39;00m \u001b[38;5;21;01mre\u001b[39;00m\n\u001b[1;32m---> 52\u001b[0m \u001b[38;5;28;01mfrom\u001b[39;00m \u001b[38;5;21;01mPIL\u001b[39;00m \u001b[38;5;28;01mimport\u001b[39;00m Image\n\u001b[0;32m     53\u001b[0m \u001b[38;5;28;01mfrom\u001b[39;00m \u001b[38;5;21;01mPIL\u001b[39;00m\u001b[38;5;21;01m.\u001b[39;00m\u001b[38;5;21;01mPngImagePlugin\u001b[39;00m \u001b[38;5;28;01mimport\u001b[39;00m PngInfo\n\u001b[0;32m     55\u001b[0m \u001b[38;5;28;01mimport\u001b[39;00m \u001b[38;5;21;01mmatplotlib\u001b[39;00m \u001b[38;5;28;01mas\u001b[39;00m \u001b[38;5;21;01mmpl\u001b[39;00m\n",
      "File \u001b[1;32m~\\miniconda3\\envs\\Procesos\\Lib\\site-packages\\PIL\\Image.py:84\u001b[0m\n\u001b[0;32m     75\u001b[0m MAX_IMAGE_PIXELS \u001b[38;5;241m=\u001b[39m \u001b[38;5;28mint\u001b[39m(\u001b[38;5;241m1024\u001b[39m \u001b[38;5;241m*\u001b[39m \u001b[38;5;241m1024\u001b[39m \u001b[38;5;241m*\u001b[39m \u001b[38;5;241m1024\u001b[39m \u001b[38;5;241m/\u001b[39m\u001b[38;5;241m/\u001b[39m \u001b[38;5;241m4\u001b[39m \u001b[38;5;241m/\u001b[39m\u001b[38;5;241m/\u001b[39m \u001b[38;5;241m3\u001b[39m)\n\u001b[0;32m     78\u001b[0m \u001b[38;5;28;01mtry\u001b[39;00m:\n\u001b[0;32m     79\u001b[0m     \u001b[38;5;66;03m# If the _imaging C module is not present, Pillow will not load.\u001b[39;00m\n\u001b[0;32m     80\u001b[0m     \u001b[38;5;66;03m# Note that other modules should not refer to _imaging directly;\u001b[39;00m\n\u001b[0;32m     81\u001b[0m     \u001b[38;5;66;03m# import Image and use the Image.core variable instead.\u001b[39;00m\n\u001b[0;32m     82\u001b[0m     \u001b[38;5;66;03m# Also note that Image.core is not a publicly documented interface,\u001b[39;00m\n\u001b[0;32m     83\u001b[0m     \u001b[38;5;66;03m# and should be considered private and subject to change.\u001b[39;00m\n\u001b[1;32m---> 84\u001b[0m     \u001b[38;5;28;01mfrom\u001b[39;00m \u001b[38;5;21;01m.\u001b[39;00m \u001b[38;5;28;01mimport\u001b[39;00m _imaging \u001b[38;5;28;01mas\u001b[39;00m core\n\u001b[0;32m     86\u001b[0m     \u001b[38;5;28;01mif\u001b[39;00m __version__ \u001b[38;5;241m!=\u001b[39m \u001b[38;5;28mgetattr\u001b[39m(core, \u001b[38;5;124m\"\u001b[39m\u001b[38;5;124mPILLOW_VERSION\u001b[39m\u001b[38;5;124m\"\u001b[39m, \u001b[38;5;28;01mNone\u001b[39;00m):\n\u001b[0;32m     87\u001b[0m         msg \u001b[38;5;241m=\u001b[39m (\n\u001b[0;32m     88\u001b[0m             \u001b[38;5;124m\"\u001b[39m\u001b[38;5;124mThe _imaging extension was built for another version of Pillow or PIL:\u001b[39m\u001b[38;5;130;01m\\n\u001b[39;00m\u001b[38;5;124m\"\u001b[39m\n\u001b[0;32m     89\u001b[0m             \u001b[38;5;124mf\u001b[39m\u001b[38;5;124m\"\u001b[39m\u001b[38;5;124mCore version: \u001b[39m\u001b[38;5;132;01m{\u001b[39;00m\u001b[38;5;28mgetattr\u001b[39m(core,\u001b[38;5;250m \u001b[39m\u001b[38;5;124m'\u001b[39m\u001b[38;5;124mPILLOW_VERSION\u001b[39m\u001b[38;5;124m'\u001b[39m,\u001b[38;5;250m \u001b[39m\u001b[38;5;28;01mNone\u001b[39;00m)\u001b[38;5;132;01m}\u001b[39;00m\u001b[38;5;130;01m\\n\u001b[39;00m\u001b[38;5;124m\"\u001b[39m\n\u001b[0;32m     90\u001b[0m             \u001b[38;5;124mf\u001b[39m\u001b[38;5;124m\"\u001b[39m\u001b[38;5;124mPillow version: \u001b[39m\u001b[38;5;132;01m{\u001b[39;00m__version__\u001b[38;5;132;01m}\u001b[39;00m\u001b[38;5;124m\"\u001b[39m\n\u001b[0;32m     91\u001b[0m         )\n",
      "\u001b[1;31mImportError\u001b[0m: DLL load failed while importing _imaging: No se puede encontrar el módulo especificado."
     ]
    }
   ],
   "source": [
    "# Librerias utilizadas\n",
    "import numpy as np\n",
    "import networkx as nx\n",
    "import matplotlib as plt"
   ]
  },
  {
   "cell_type": "markdown",
   "id": "2553a863-5266-4a9d-972b-9cc1f54ecf83",
   "metadata": {},
   "source": [
    "## <font color=\"red\"> PUNTO 1</font>\n",
    "\n",
    "Considera una cadena de Markov con espacio de estados $S=\\{0,1,2,3,4,5\\}$ y la martiz de probabilidades de transición :\n",
    "$$\n",
    "\\left(\\begin{array}{llllll}\n",
    "0 & 0 & 1 & 0 & 0 & 0 \\\\\n",
    "0 & 0 & 0 & 0 & 0 & 1 \\\\\n",
    "0 & 0 & 0 & 0 & 1 & 0 \\\\\n",
    "\\frac{1}{3} & \\frac{1}{3} & \\frac{1}{3} & 0 & 0 & 0 \\\\\n",
    "1 & 0 & 0 & 0 & 0 & 0 \\\\\n",
    "0 & \\frac{1}{2} & 0 & 0 & 0 & \\frac{1}{2}\n",
    "\\end{array}\\right)\n",
    "$$"
   ]
  },
  {
   "cell_type": "code",
   "execution_count": 3,
   "id": "6b9c5ee5-a32d-4f59-973d-10aa6d5b7e4d",
   "metadata": {},
   "outputs": [],
   "source": [
    "# Definir la matriz de transición\n",
    "P = np.array([\n",
    "    [0, 0, 1, 0, 0, 0],\n",
    "    [0, 0, 0, 0, 0, 1],\n",
    "    [0, 0, 0, 0, 1, 0],\n",
    "    [1/3, 1/3, 1/3, 0, 0, 0],\n",
    "    [1, 0, 0, 0, 0, 0],\n",
    "    [0, 1/2, 0, 0, 0, 1/2]\n",
    "])"
   ]
  },
  {
   "cell_type": "code",
   "execution_count": null,
   "id": "4787bde1-28a1-4e7b-802e-2ff7c35f6f07",
   "metadata": {},
   "outputs": [],
   "source": [
    "# Crear el grafo dirigido\n",
    "G = nx.DiGraph(P)\n",
    "\n",
    "# Asignar etiquetas a los nodos\n",
    "labels = {i: str(i) for i in range(len(P))}"
   ]
  },
  {
   "cell_type": "code",
   "execution_count": null,
   "id": "1aff46ea-aac3-4ffd-9d78-3f09e20b7fd6",
   "metadata": {},
   "outputs": [],
   "source": [
    "# Dibujar el grafo\n",
    "plt.figure(figsize=(8, 6))\n",
    "pos = nx.spring_layout(G)  # Definir el diseño del grafo\n",
    "nx.draw(G, pos, with_labels=True, labels=labels, node_size=1000, node_color='skyblue', font_size=12, arrows=True)\n",
    "plt.title('Cadena de Markov')\n",
    "plt.show()"
   ]
  },
  {
   "cell_type": "markdown",
   "id": "5e9433a1-b3c3-4cee-bf95-4dbfa4195e0b",
   "metadata": {},
   "source": [
    "**<font color=\"blue\"> (a) Clasificación de estados en clases</font>**"
   ]
  },
  {
   "cell_type": "markdown",
   "id": "dd704560-53f0-4872-b019-fb7487e44354",
   "metadata": {},
   "source": [
    "Para clasificar los estados en clases, primero necesitamos entender qué significa una clase en una cadena de Markov. En una cadena de Markov, un estado $i$ se comunica con un estado $j$ si existe una secuencia de transiciones tal que la probabilidad de ir de $i$ a $j$ es mayor que cero. Una clase es un conjunto de estados donde cada estado se comunica con todos los otros estados en la clase.\n",
    "\n",
    "Para clasificar los estados en clases, podemos usar el concepto de comunicación. Dos estados $i$ y $j$ se comunican ($i \\leftrightarrow j$) si hay una secuencia de transiciones tal que la probabilidad de ir de $i$ a $j$ es mayor que cero y viceversa.\n",
    "\n",
    "Siguiendo este concepto, procedemos a clasificar los estados:\n",
    "\n",
    "- Estado 0: Se comunica solo con el estado 2.\n",
    "- Estado 1: Se comunica solo con el estado 5.\n",
    "- Estado 2: Se comunica solo con el estado 4.\n",
    "- Estado 3: Se comunica con los estados 0, 1, y 2.\n",
    "- Estado 4: Se comunica solo con el estado 0.\n",
    "- Estado 5: Se comunica con los estados 1 y 5.\n",
    "\n",
    "Por lo tanto, las clases de comunicación son: {0, 2, 4}, {1, 5}, {3}."
   ]
  },
  {
   "cell_type": "code",
   "execution_count": 4,
   "id": "f9b3d4f9-db25-4783-91da-662bfa3a4b97",
   "metadata": {},
   "outputs": [
    {
     "name": "stdout",
     "output_type": "stream",
     "text": [
      "Clases de comunicación: [[0, 2, 3, 4], [1, 3, 5]]\n"
     ]
    }
   ],
   "source": [
    "def clasificar_clases(matriz):\n",
    "    clases = []\n",
    "    estados_visitados = set()\n",
    "    n = matriz.shape[0]\n",
    "\n",
    "    for estado in range(n):\n",
    "        if estado not in estados_visitados:\n",
    "            clase = [estado]\n",
    "            estados_visitados.add(estado)\n",
    "\n",
    "            for otro_estado in range(n):\n",
    "                if otro_estado not in estados_visitados and \\\n",
    "                    matriz[estado, otro_estado] > 0 or matriz[otro_estado, estado] > 0:\n",
    "                    clase.append(otro_estado)\n",
    "                    estados_visitados.add(otro_estado)\n",
    "\n",
    "            clases.append(clase)\n",
    "\n",
    "    return clases\n",
    "\n",
    "clases = clasificar_clases(P)\n",
    "print(\"Clases de comunicación:\", clases)"
   ]
  },
  {
   "cell_type": "markdown",
   "id": "c4898678-eb3f-49be-84e1-c2fbc9a3c192",
   "metadata": {},
   "source": [
    "**<font color=\"blue\"> (b) Estudio de recurrencia o transitoriedad</font>**"
   ]
  },
  {
   "cell_type": "markdown",
   "id": "49cf6b08-58c5-4f15-8b98-37bd80b2ac55",
   "metadata": {},
   "source": [
    "Para estudiar la recurrencia o transitoriedad de cada estado, podemos usar el concepto de recurrencia y transitoriedad en cadenas de Markov.\n",
    "\n",
    "- Un estado $i$ es recurrente si, una vez que se alcanza, hay una probabilidad de 1 de que se vuelva a visitar en el futuro.\n",
    "- Un estado $i$ es transitorio si hay una probabilidad menor que 1 de que se vuelva a visitar después de alcanzarlo.\n",
    "\n",
    "Podemos usar propiedades como la existencia de un bucle (autotransición) para determinar si un estado es recurrente. Un estado es recurrente si y solo si tiene una autotransición (la diagonal de la matriz de transición no es cero).\n",
    "\n",
    "Analizando la matriz de transición dada, podemos ver que:\n",
    "\n",
    "- Estado 0: Recurrente (tiene una autotransición).\n",
    "- Estado 1: Transitorio.\n",
    "- Estado 2: Transitorio.\n",
    "- Estado 3: Transitorio.\n",
    "- Estado 4: Recurrente (tiene una autotransición).\n",
    "- Estado 5: Recurrente (tiene una autotransición)."
   ]
  },
  {
   "cell_type": "code",
   "execution_count": 5,
   "id": "1d471d50-0786-4bed-b8ba-a798baffd49c",
   "metadata": {},
   "outputs": [
    {
     "name": "stdout",
     "output_type": "stream",
     "text": [
      "Recurrencia o transitoriedad de cada estado: ['Recurrente', 'Recurrente', 'Recurrente', 'Recurrente', 'Recurrente', 'Recurrente']\n"
     ]
    }
   ],
   "source": [
    "def determinar_recurrencia_transitoriedad(matriz):\n",
    "    recurrencia_transitoriedad = []\n",
    "\n",
    "    for fila in matriz:\n",
    "        if np.any(np.diag(fila) > 0):\n",
    "            recurrencia_transitoriedad.append(\"Recurrente\")\n",
    "        else:\n",
    "            recurrencia_transitoriedad.append(\"Transitorio\")\n",
    "\n",
    "    return recurrencia_transitoriedad\n",
    "\n",
    "recurrencia_transitoriedad = determinar_recurrencia_transitoriedad(P)\n",
    "print(\"Recurrencia o transitoriedad de cada estado:\", recurrencia_transitoriedad)"
   ]
  },
  {
   "cell_type": "markdown",
   "id": "644c83f8-7b7a-4811-9fbb-fc89412d3fbb",
   "metadata": {},
   "source": [
    "**<font color=\"blue\"> (c) Cálculo del período de cada clase recurrente</font>**"
   ]
  },
  {
   "cell_type": "markdown",
   "id": "ff118f38-cfee-47ea-b968-b420563103b5",
   "metadata": {},
   "source": [
    "El período de una clase recurrente es el máximo común divisor de los períodos de todos los estados en esa clase. El período de un estado es la longitud del ciclo más pequeño que comienza y termina en ese estado.\n",
    "\n",
    "Para calcular los períodos de cada clase recurrente, primero encontramos los períodos de los estados dentro de cada clase y luego tomamos el máximo común divisor.\n",
    "\n",
    "- Clase {0, 2, 4}: El período de cada estado es 1 (hay una autotransición en cada estado). Por lo tanto, el período de esta clase es 1.\n",
    "- Clase {1, 5}: El período de cada estado es 2 (hay un ciclo de longitud 2 que comienza y termina en cada estado). Por lo tanto, el período de esta clase es 2.\n",
    "- Clase {3}: El período de este estado es 3 (hay un ciclo de longitud 3 que comienza y termina en este estado). Por lo tanto, el período de esta clase es 3."
   ]
  },
  {
   "cell_type": "code",
   "execution_count": null,
   "id": "19551f8f-0828-4b5c-a331-2c489106c4f1",
   "metadata": {},
   "outputs": [],
   "source": [
    "def calcular_periodo(matriz):\n",
    "    periodos_clases = []\n",
    "\n",
    "    for clase in clases:\n",
    "        periodos_estados = []\n",
    "        for estado in clase:\n",
    "            # Encontrar el periodo de cada estado\n",
    "            ciclo = 1\n",
    "            estado_actual = estado\n",
    "            while True:\n",
    "                estado_actual = np.argmax(matriz[estado_actual])\n",
    "                if estado_actual == estado:\n",
    "                    break\n",
    "                ciclo += 1\n",
    "            periodos_estados.append(ciclo)\n",
    "\n",
    "        # Calcular el máximo común divisor de los periodos de los estados en la clase\n",
    "        periodo_clase = np.gcd.reduce(periodos_estados)\n",
    "        periodos_clases.append(periodo_clase)\n",
    "\n",
    "    return periodos_clases\n",
    "\n",
    "periodos = calcular_periodo(P)\n",
    "print(\"Período de cada clase recurrente:\", periodos)"
   ]
  },
  {
   "cell_type": "code",
   "execution_count": null,
   "id": "d49fccb1-548e-4f5a-9309-efe40c4b27e1",
   "metadata": {},
   "outputs": [],
   "source": []
  },
  {
   "cell_type": "code",
   "execution_count": null,
   "id": "cf3ae1e0-0893-417e-ac63-e257d7f5bbb8",
   "metadata": {},
   "outputs": [],
   "source": [
    "# d. Identificación de estados ergódicos\n",
    "estados_ergodicos = [i for i, estado in enumerate(recurrencia_transitoriedad) if estado == \"Recurrente\" and periodos[clases.index([i])] == 1]\n",
    "print(\"Estados ergódicos:\", estados_ergodicos)"
   ]
  }
 ],
 "metadata": {
  "kernelspec": {
   "display_name": "Python 3 (ipykernel)",
   "language": "python",
   "name": "python3"
  },
  "language_info": {
   "codemirror_mode": {
    "name": "ipython",
    "version": 3
   },
   "file_extension": ".py",
   "mimetype": "text/x-python",
   "name": "python",
   "nbconvert_exporter": "python",
   "pygments_lexer": "ipython3",
   "version": "3.12.2"
  }
 },
 "nbformat": 4,
 "nbformat_minor": 5
}

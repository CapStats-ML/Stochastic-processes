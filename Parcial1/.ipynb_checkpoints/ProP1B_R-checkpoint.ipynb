{
 "cells": [
  {
   "cell_type": "markdown",
   "id": "090b9e94-3dc5-4df3-8493-f817c9b053e3",
   "metadata": {},
   "source": [
    "# PROCESOS ESTOCASTICOS \n",
    "\n",
    "## SOLUCION PARCIAL 1 PARTE B 2024-1\n",
    "\n",
    "El siguiete script de python contiene la posible solucion a los ejercicios propuestos en la clase de Procesos Estocasticos para la parte computacional del 1er parcial de la asigatura, el fin de este documento es la  adecuada preparacion para el parcial 1 de 2024-1.\n",
    "\n",
    "PDF: Parcial1/Procesos-P1-2024I.pdf"
   ]
  },
  {
   "cell_type": "code",
   "execution_count": 2,
   "id": "795f092c-f902-4300-9f85-200df08bcc35",
   "metadata": {},
   "outputs": [
    {
     "name": "stderr",
     "output_type": "stream",
     "text": [
      "also installing the dependencies 'Rcpp', 'utf8', 'askpass', 'credentials', 'openssl', 'sys', 'zip', 'gitcreds', 'httr2', 'ini', 'fastmap', 'httpuv', 'mime', 'xtable', 'fontawesome', 'htmltools', 'sourcetools', 'later', 'promises', 'jquerylib', 'sass', 'fansi', 'systemfonts', 'textshaping', 'tinytex', 'xfun', 'pillar', 'pkgconfig', 'highr', 'diffobj', 'rematch2', 'clipr', 'curl', 'gert', 'gh', 'glue', 'purrr', 'rappdirs', 'rprojroot', 'rstudioapi', 'whisker', 'yaml', 'R6', 'cachem', 'shiny', 'callr', 'processx', 'bslib', 'downlit', 'httr', 'magrittr', 'ragg', 'rmarkdown', 'tibble', 'xml2', 'htmlwidgets', 'stringr', 'vctrs', 'prettyunits', 'xopen', 'brew', 'commonmark', 'knitr', 'stringi', 'cpp11', 'brio', 'digest', 'evaluate', 'jsonlite', 'praise', 'ps', 'waldo', 'usethis', 'cli', 'desc', 'ellipsis', 'fs', 'lifecycle', 'memoise', 'miniUI', 'pkgbuild', 'pkgdown', 'pkgload', 'profvis', 'rcmdcheck', 'remotes', 'rlang', 'roxygen2', 'rversions', 'sessioninfo', 'testthat', 'urlchecker', 'withr'\n",
      "\n",
      "Warning message:\n",
      "\"unable to access index for repository https://cran.r-project.org/bin/windows/contrib/3.6:\n",
      "  no fue posible abrir la URL 'https://cran.r-project.org/bin/windows/contrib/3.6/PACKAGES'\"Packages which are only available in source form, and may need\n",
      "  compilation of C/C++/Fortran: 'Rcpp' 'utf8' 'askpass' 'openssl' 'sys'\n",
      "  'zip' 'fastmap' 'httpuv' 'mime' 'htmltools' 'sourcetools' 'later'\n",
      "  'promises' 'sass' 'fansi' 'systemfonts' 'textshaping' 'xfun'\n",
      "  'diffobj' 'curl' 'gert' 'glue' 'purrr' 'rappdirs' 'yaml' 'cachem'\n",
      "  'processx' 'magrittr' 'ragg' 'tibble' 'xml2' 'vctrs' 'commonmark'\n",
      "  'stringi' 'brio' 'digest' 'jsonlite' 'ps' 'cli' 'ellipsis' 'fs'\n",
      "  'profvis' 'rlang' 'roxygen2' 'testthat'\n"
     ]
    },
    {
     "name": "stdout",
     "output_type": "stream",
     "text": [
      "  These will not be installed\n"
     ]
    },
    {
     "name": "stderr",
     "output_type": "stream",
     "text": [
      "installing the source packages 'credentials', 'gitcreds', 'httr2', 'ini', 'xtable', 'fontawesome', 'jquerylib', 'tinytex', 'pillar', 'pkgconfig', 'highr', 'rematch2', 'clipr', 'gh', 'rprojroot', 'rstudioapi', 'whisker', 'R6', 'shiny', 'callr', 'bslib', 'downlit', 'httr', 'rmarkdown', 'htmlwidgets', 'stringr', 'prettyunits', 'xopen', 'brew', 'knitr', 'cpp11', 'evaluate', 'praise', 'waldo', 'usethis', 'desc', 'lifecycle', 'memoise', 'miniUI', 'pkgbuild', 'pkgdown', 'pkgload', 'rcmdcheck', 'remotes', 'rversions', 'sessioninfo', 'urlchecker', 'withr', 'devtools'\n",
      "\n",
      "Warning message in install.packages(\"devtools\"):\n",
      "\"installation of package 'credentials' had non-zero exit status\"Warning message in install.packages(\"devtools\"):\n",
      "\"installation of package 'fontawesome' had non-zero exit status\"Warning message in install.packages(\"devtools\"):\n",
      "\"installation of package 'tinytex' had non-zero exit status\"Warning message in install.packages(\"devtools\"):\n",
      "\"installation of package 'highr' had non-zero exit status\"Warning message in install.packages(\"devtools\"):\n",
      "\"installation of package 'rematch2' had non-zero exit status\"Warning message in install.packages(\"devtools\"):\n",
      "\"installation of package 'xopen' had non-zero exit status\"Warning message in install.packages(\"devtools\"):\n",
      "\"installation of package 'lifecycle' had non-zero exit status\"Warning message in install.packages(\"devtools\"):\n",
      "\"installation of package 'memoise' had non-zero exit status\"Warning message in install.packages(\"devtools\"):\n",
      "\"installation of package 'rversions' had non-zero exit status\"Warning message in install.packages(\"devtools\"):\n",
      "\"installation of package 'sessioninfo' had non-zero exit status\"Warning message in install.packages(\"devtools\"):\n",
      "\"installation of package 'urlchecker' had non-zero exit status\"Warning message in install.packages(\"devtools\"):\n",
      "\"installation of package 'httr2' had non-zero exit status\"Warning message in install.packages(\"devtools\"):\n",
      "\"installation of package 'pillar' had non-zero exit status\"Warning message in install.packages(\"devtools\"):\n",
      "\"installation of package 'callr' had non-zero exit status\"Warning message in install.packages(\"devtools\"):\n",
      "\"installation of package 'bslib' had non-zero exit status\"Warning message in install.packages(\"devtools\"):\n",
      "\"installation of package 'httr' had non-zero exit status\"Warning message in install.packages(\"devtools\"):\n",
      "\"installation of package 'stringr' had non-zero exit status\"Warning message in install.packages(\"devtools\"):\n",
      "\"installation of package 'knitr' had non-zero exit status\"Warning message in install.packages(\"devtools\"):\n",
      "\"installation of package 'waldo' had non-zero exit status\"Warning message in install.packages(\"devtools\"):\n",
      "\"installation of package 'desc' had non-zero exit status\"Warning message in install.packages(\"devtools\"):\n",
      "\"installation of package 'gh' had non-zero exit status\"Warning message in install.packages(\"devtools\"):\n",
      "\"installation of package 'shiny' had non-zero exit status\"Warning message in install.packages(\"devtools\"):\n",
      "\"installation of package 'downlit' had non-zero exit status\"Warning message in install.packages(\"devtools\"):\n",
      "\"installation of package 'rmarkdown' had non-zero exit status\"Warning message in install.packages(\"devtools\"):\n",
      "\"installation of package 'pkgbuild' had non-zero exit status\"Warning message in install.packages(\"devtools\"):\n",
      "\"installation of package 'htmlwidgets' had non-zero exit status\"Warning message in install.packages(\"devtools\"):\n",
      "\"installation of package 'usethis' had non-zero exit status\"Warning message in install.packages(\"devtools\"):\n",
      "\"installation of package 'miniUI' had non-zero exit status\"Warning message in install.packages(\"devtools\"):\n",
      "\"installation of package 'pkgdown' had non-zero exit status\"Warning message in install.packages(\"devtools\"):\n",
      "\"installation of package 'pkgload' had non-zero exit status\"Warning message in install.packages(\"devtools\"):\n",
      "\"installation of package 'rcmdcheck' had non-zero exit status\"Warning message in install.packages(\"devtools\"):\n",
      "\"installation of package 'devtools' had non-zero exit status\""
     ]
    }
   ],
   "source": [
    "install.packages(\"devtools\")"
   ]
  },
  {
   "cell_type": "code",
   "execution_count": 3,
   "id": "63b784eb-7064-4ff8-8946-5fd9a06fd085",
   "metadata": {},
   "outputs": [
    {
     "ename": "ERROR",
     "evalue": "Error in loadNamespace(name): there is no package called 'devtools'\n",
     "output_type": "error",
     "traceback": [
      "Error in loadNamespace(name): there is no package called 'devtools'\nTraceback:\n",
      "1. devtools::install_github",
      "2. getExportedValue(pkg, name)",
      "3. asNamespace(ns)",
      "4. getNamespace(ns)",
      "5. loadNamespace(name)",
      "6. withRestarts(stop(cond), retry_loadNamespace = function() NULL)",
      "7. withOneRestart(expr, restarts[[1L]])",
      "8. doWithOneRestart(return(expr), restart)"
     ]
    }
   ],
   "source": [
    "### INSTALACION DE PAQUETES NECESARIOS\n",
    "devtools::install_github(\"spedygiorgio/markovchain\")"
   ]
  },
  {
   "cell_type": "code",
   "execution_count": null,
   "id": "d7988f7d-0b49-4b60-a6c7-6db2f55151e2",
   "metadata": {},
   "outputs": [],
   "source": [
    "library(markovchain)"
   ]
  },
  {
   "cell_type": "code",
   "execution_count": null,
   "id": "745ffc52-1992-451d-a529-cb2c18f44203",
   "metadata": {},
   "outputs": [],
   "source": []
  },
  {
   "cell_type": "code",
   "execution_count": null,
   "id": "f53813fd-1d42-4f83-8839-19f1f4314a3b",
   "metadata": {},
   "outputs": [],
   "source": []
  },
  {
   "cell_type": "code",
   "execution_count": null,
   "id": "8137776c-0827-45cc-96d7-10db804d8e13",
   "metadata": {},
   "outputs": [],
   "source": []
  },
  {
   "cell_type": "code",
   "execution_count": null,
   "id": "0859b307-cfa3-40c5-80bc-fa0aac2b4551",
   "metadata": {},
   "outputs": [],
   "source": []
  },
  {
   "cell_type": "code",
   "execution_count": null,
   "id": "bb6beb44-1938-4f79-8bf7-fceff5971888",
   "metadata": {},
   "outputs": [],
   "source": []
  },
  {
   "cell_type": "code",
   "execution_count": null,
   "id": "63f3a5a6-4a91-4946-8945-7b052746c4f5",
   "metadata": {},
   "outputs": [],
   "source": []
  }
 ],
 "metadata": {
  "kernelspec": {
   "display_name": "R",
   "language": "R",
   "name": "ir"
  },
  "language_info": {
   "codemirror_mode": "r",
   "file_extension": ".r",
   "mimetype": "text/x-r-source",
   "name": "R",
   "pygments_lexer": "r",
   "version": "3.6.1"
  }
 },
 "nbformat": 4,
 "nbformat_minor": 5
}

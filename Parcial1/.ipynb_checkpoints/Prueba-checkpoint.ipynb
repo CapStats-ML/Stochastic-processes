{
 "cells": [
  {
   "cell_type": "markdown",
   "id": "4f57387d-f25d-448a-992d-5dd6e8ab7c6d",
   "metadata": {},
   "source": [
    "# SCRIPT PRUEBA DE PAQUETES "
   ]
  },
  {
   "cell_type": "code",
   "execution_count": null,
   "id": "f0b63c04-1e31-4f48-bc70-ba8270393d21",
   "metadata": {},
   "outputs": [],
   "source": []
  },
  {
   "cell_type": "code",
   "execution_count": 1,
   "id": "d9b821e1-08b0-4be0-a19e-d57c343116d4",
   "metadata": {},
   "outputs": [],
   "source": [
    "import numpy as np\n",
    "import matplotlib.pyplot as plt\n",
    "import seaborn as sns\n",
    "import pandas as pd\n",
    "import sympy as sp\n",
    "import random\n",
    "import statsmodels.api as sm"
   ]
  },
  {
   "cell_type": "code",
   "execution_count": null,
   "id": "b6f662d1-a696-4bc3-854f-190908d24b1e",
   "metadata": {},
   "outputs": [],
   "source": [
    "# Generar una muestra aleatoria de una distribución normal\n",
    "mu, sigma = 0, 1\n",
    "sample_size = 1000\n",
    "data = np.random.normal(mu, sigma, sample_size)\n",
    "\n",
    "# Calcular la media y la desviación estándar de la muestra\n",
    "mean = np.mean(data)\n",
    "std_dev = np.std(data)\n",
    "\n",
    "# Crear un DataFrame de Pandas con los datos\n",
    "df = pd.DataFrame(data, columns=['Values'])\n",
    "\n",
    "# Graficar un histograma de los datos\n",
    "plt.figure(figsize=(10, 6))\n",
    "sns.histplot(data, kde=True, color='skyblue', bins=30)\n",
    "plt.title('Histograma de la muestra')\n",
    "plt.xlabel('Valor')\n",
    "plt.ylabel('Frecuencia')\n",
    "plt.show()\n",
    "\n",
    "# Calcular la función de densidad de probabilidad de una distribución normal\n",
    "x = np.linspace(-4, 4, 1000)\n",
    "pdf = (1 / (sigma * np.sqrt(2 * np.pi))) * np.exp(-0.5 * ((x - mu) / sigma) ** 2)\n",
    "\n",
    "# Graficar la función de densidad de probabilidad\n",
    "plt.figure(figsize=(10, 6))\n",
    "plt.plot(x, pdf, color='red', linestyle='--', label='Distribución normal teórica')\n",
    "sns.histplot(data, kde=True, color='skyblue', bins=30, label='Histograma de la muestra')\n",
    "plt.title('Función de densidad de probabilidad vs Histograma')\n",
    "plt.xlabel('Valor')\n",
    "plt.ylabel('Densidad de probabilidad')\n",
    "plt.legend()\n",
    "plt.show()\n",
    "\n",
    "# Realizar una prueba de hipótesis de Shapiro-Wilk para normalidad\n",
    "shapiro_test = sm.stats.shapiro(data)\n",
    "print(\"Estadística de prueba Shapiro-Wilk:\", shapiro_test[0])\n",
    "print(\"Valor p:\", shapiro_test[1])\n",
    "\n",
    "# Generar números aleatorios simulando un dado\n",
    "dice_roll = random.randint(1, 6)\n",
    "print(\"El dado muestra:\", dice_roll)\n",
    "\n",
    "# Realizar operaciones simbólicas con SymPy\n",
    "x = sp.symbols('x')\n",
    "expr = sp.sin(x) * sp.exp(x)\n",
    "derivative = sp.diff(expr, x)\n",
    "print(\"Derivada de sin(x) * exp(x) con respecto a x:\", derivative)\n"
   ]
  },
  {
   "cell_type": "code",
   "execution_count": null,
   "id": "9d67c008-d60d-424f-a6c9-a0cadca23678",
   "metadata": {},
   "outputs": [],
   "source": []
  }
 ],
 "metadata": {
  "kernelspec": {
   "display_name": "Python 3 (ipykernel)",
   "language": "python",
   "name": "python3"
  },
  "language_info": {
   "codemirror_mode": {
    "name": "ipython",
    "version": 3
   },
   "file_extension": ".py",
   "mimetype": "text/x-python",
   "name": "python",
   "nbconvert_exporter": "python",
   "pygments_lexer": "ipython3",
   "version": "3.12.2"
  }
 },
 "nbformat": 4,
 "nbformat_minor": 5
}
